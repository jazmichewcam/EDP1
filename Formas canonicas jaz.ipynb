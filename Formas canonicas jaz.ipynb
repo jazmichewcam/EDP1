{
  "nbformat": 4,
  "nbformat_minor": 0,
  "metadata": {
    "colab": {
      "provenance": [],
      "authorship_tag": "ABX9TyOZQD4Y8fV8TLKlpyHqC3gM",
      "include_colab_link": true
    },
    "kernelspec": {
      "name": "python3",
      "display_name": "Python 3"
    },
    "language_info": {
      "name": "python"
    }
  },
  "cells": [
    {
      "cell_type": "markdown",
      "metadata": {
        "id": "view-in-github",
        "colab_type": "text"
      },
      "source": [
        "<a href=\"https://colab.research.google.com/github/jazmichewcam/EDP1/blob/main/Formas%20canonicas%20jaz.ipynb\" target=\"_parent\"><img src=\"https://colab.research.google.com/assets/colab-badge.svg\" alt=\"Open In Colab\"/></a>"
      ]
    },
    {
      "cell_type": "markdown",
      "source": [
        "$$FORMAS \\hspace{0.3cm}CANONICAS$$\n",
        "Por lo tanto, el tipo de ecuación es:\n",
        "\n",
        "\n",
        "En este caso, como $\\Delta = 49 < 0$, la ecuación es hiperbólica\n",
        "\n",
        "Usamos las fórmulas para las nuevas coordenadas:\n",
        "\n",
        "$$\n",
        "\\xi = - \\left( B + \\sqrt{B^2 - 4AC} \\right) x + 2A y\n",
        "$$\n",
        "$$\n",
        "\\eta = - \\left( B - \\sqrt{B^2 - 4AC} \\right) x + 2A y\n",
        "$$\n",
        "\n",
        "Sustituyendo los valores:\n",
        "\n",
        "$$\n",
        "\\xi = - \\left( -2 + \\sqrt{(-2)^2 - 4(1)(4)} \\right) x + 2y = - \\left( -2 + \\sqrt{-12} \\right) x + 2y\n",
        "$$\n",
        "\n",
        "$$\n",
        "\\eta = - \\left( -2 - \\sqrt{(-2)^2 - 4(1)(4)} \\right) x + 2y = - \\left( -2 - \\sqrt{-12} \\right) x + 2y\n",
        "$$\n",
        "\n",
        "Observamos que al tener raíces, la ecuación es hiperbolica\n",
        "Después de aplicar el cambio de variables, la ecuación se puede expresar en su forma canónica como:\n",
        "\n",
        "$$\n",
        "\\frac{\\partial^2 U}{\\partial \\xi \\, \\partial \\eta} + \\text{(términos de primer orden)} = 0\n",
        "$$\n",
        "\n",
        "o simplemente como:\n",
        "\n",
        "$$\n",
        "U_{\\xi \\eta} + \\dots = 0\n",
        "$$"
      ],
      "metadata": {
        "id": "2rwnknCefIPv"
      }
    },
    {
      "cell_type": "code",
      "execution_count": 3,
      "metadata": {
        "colab": {
          "base_uri": "https://localhost:8080/",
          "height": 248
        },
        "id": "3-P2ZY9-WtPF",
        "outputId": "b85c0a51-5516-4946-adc3-318c71ce04e0"
      },
      "outputs": [
        {
          "output_type": "stream",
          "name": "stdout",
          "text": [
            "Discriminante: 49\n",
            "La ecuación es de tipo: Hiperbólica\n",
            "\n",
            "Transformación:\n",
            "ξ = -4*x + 2*y\n",
            "η = 10*x + 2*y\n",
            "\n",
            "La ecuación en forma canónica (hiperbólica) es:\n",
            "U_ξη + términos de primer orden = 0 (forma general)\n",
            "\n",
            "La EDP original es:\n"
          ]
        },
        {
          "output_type": "display_data",
          "data": {
            "text/plain": [
              "Eq(U(x, y) + 2*Derivative(U(x, y), x) + Derivative(U(x, y), (x, 2)) + Derivative(U(x, y), y) + 4*Derivative(U(x, y), (y, 2)) - 4*Derivative(U(x, y), x, y), 0)"
            ],
            "text/latex": "$\\displaystyle U{\\left(x,y \\right)} + 2 \\frac{\\partial}{\\partial x} U{\\left(x,y \\right)} + \\frac{\\partial^{2}}{\\partial x^{2}} U{\\left(x,y \\right)} + \\frac{\\partial}{\\partial y} U{\\left(x,y \\right)} + 4 \\frac{\\partial^{2}}{\\partial y^{2}} U{\\left(x,y \\right)} - 4 \\frac{\\partial^{2}}{\\partial y\\partial x} U{\\left(x,y \\right)} = 0$"
          },
          "metadata": {}
        }
      ],
      "source": [
        "# Paso 1: Calcular el discriminante y clasificar la ecuación\n",
        "import sympy as sp\n",
        "\n",
        "# Definimos las variables\n",
        "x, y = sp.symbols('x y')\n",
        "\n",
        "# Coeficientes de la EDP\n",
        "A = 1\n",
        "B = -3 # porque el término es -4 Uxy (2B = -4, entonces B = -2)\n",
        "C = -10\n",
        "\n",
        "# Discriminante (Indicador)\n",
        "discriminante = B**2 - 4*A*C\n",
        "print(f\"Discriminante: {discriminante}\")\n",
        "\n",
        "if discriminante > 0:\n",
        " tipo = \"Hiperbólica\"\n",
        "elif discriminante == 0:\n",
        " tipo = \"Parabólica\"\n",
        "else:\n",
        " tipo = \"Elíptica\"\n",
        "\n",
        "print(f\"La ecuación es de tipo: {tipo}\")\n",
        "\n",
        "# Paso 2: Transformación de coordenadas (según el pizarrón)\n",
        "sqrtD = sp.sqrt(B**2 - 4*A*C)\n",
        "\n",
        "# Definimos las nuevas variables según las fórmulas del pizarrón\n",
        "xi = - (B + sqrtD) * x + 2 * A * y\n",
        "eta = - (B - sqrtD) * x + 2 * A * y\n",
        "\n",
        "print(f\"\\nTransformación:\")\n",
        "print(f\"ξ = {xi}\")\n",
        "print(f\"η = {eta}\")\n",
        "\n",
        "# Paso 3: EDP en forma canónica\n",
        "print(\"\\nLa ecuación en forma canónica (hiperbólica) es:\")\n",
        "print(\"U_ξη + términos de primer orden = 0 (forma general)\")\n",
        "\n",
        "# También se puede mostrar la ecuación inicial completa:\n",
        "from sympy import Function, Eq\n",
        "\n",
        "U = Function('U')(x, y)\n",
        "\n",
        "EDP = sp.Eq(U.diff(x, 2) - 4 * U.diff(x, y) + 4 * U.diff(y, 2) + 2 * U.diff(x) + U.diff(y) + U, 0)\n",
        "print(\"\\nLa EDP original es:\")\n",
        "display(EDP)"
      ]
    }
  ]
}